{
 "cells": [
  {
   "cell_type": "code",
   "execution_count": 1,
   "metadata": {
    "scrolled": true
   },
   "outputs": [],
   "source": [
    "import tensorflow as tf\n",
    "from tensorflow import keras\n",
    "from tensorflow.keras.models import Sequential\n",
    "from tensorflow.keras.layers import Dense, Conv2D, Dropout, Flatten, MaxPooling2D\n",
    "from keras.utils import to_categorical\n",
    "from keras.preprocessing import image\n",
    "from keras.optimizers import SGD"
   ]
  },
  {
   "cell_type": "code",
   "execution_count": 5,
   "metadata": {},
   "outputs": [],
   "source": [
    "# Importing of libraries for data handling and viewing during handling\n",
    "import cv2\n",
    "import os\n",
    "import numpy as np\n",
    "from PIL import Image\n",
    "import matplotlib.pyplot as plt\n",
    "import matplotlib.image as mpimg\n",
    "from matplotlib.pyplot import figure\n",
    "def chartit(img,n): # for Image Viewing without writing whole commands over and over\n",
    "    #fname = 'image.png'\n",
    "    #img=img.convert(\"L\")\n",
    "    figure(num=None, figsize=(n,n), dpi=80, edgecolor='k')\n",
    "    arr = np.asarray(img)\n",
    "    plt.imshow(arr, cmap='gray', vmin=0, vmax=255)\n",
    "    plt.show()\n",
    "    return"
   ]
  },
  {
   "cell_type": "code",
   "execution_count": null,
   "metadata": {},
   "outputs": [],
   "source": []
  },
  {
   "cell_type": "markdown",
   "metadata": {},
   "source": [
    "# Data Importing with resizing and Batch making"
   ]
  },
  {
   "cell_type": "code",
   "execution_count": 6,
   "metadata": {
    "scrolled": true
   },
   "outputs": [
    {
     "name": "stdout",
     "output_type": "stream",
     "text": [
      "Found 8144 files belonging to 196 classes.\n",
      "Found 8041 files belonging to 196 classes.\n"
     ]
    }
   ],
   "source": [
    "# Data importing from download folder\n",
    "from tensorflow.keras.preprocessing import image_dataset_from_directory\n",
    "train_folder='dataset/car_data/train'\n",
    "train_image=image_dataset_from_directory(train_folder,color_mode='rgb', batch_size=32, image_size=(128, 128))\n",
    "test_folder='dataset/car_data/test'\n",
    "test_image=image_dataset_from_directory(test_folder,color_mode='rgb', batch_size=32, image_size=(128, 128))"
   ]
  },
  {
   "cell_type": "code",
   "execution_count": null,
   "metadata": {},
   "outputs": [],
   "source": [
    "from keras.preprocessing.image import ImageDataGenerator\n",
    "train_datagen = ImageDataGenerator(rescale=1./255,shear_range=0.2,zoom_range=0.2,horizontal_flip=True)\n",
    "test_datagen = ImageDataGenerator(rescale=1./255)\n",
    "\n",
    "train_data = train_datagen.flow_from_directory(train_folder,\n",
    "                                              target_size=(128,128),\n",
    "                                              batch_size=32,\n",
    "                                              class_mode='categorical')\n",
    "test_data = test_datagen.flow_from_directory(test_folder,\n",
    "                                              target_size=(128,128),\n",
    "                                              batch_size=32,\n",
    "                                              class_mode='categorical')"
   ]
  },
  {
   "cell_type": "markdown",
   "metadata": {},
   "source": [
    "# CNN MODEL"
   ]
  },
  {
   "cell_type": "code",
   "execution_count": 7,
   "metadata": {
    "scrolled": false
   },
   "outputs": [],
   "source": [
    "cnn = Sequential()\n",
    "#Adding 1st Convolution and Pooling Layer\n",
    "cnn.add(Conv2D(32,kernel_size=(3,3),input_shape=(128,128,3),activation='relu'))\n",
    "cnn.add(MaxPooling2D(pool_size=(2,2)))\n",
    "cnn.add(Dropout(0.2))\n",
    "#Adding 2nd Convolution and Pooling Layer\n",
    "cnn.add(Conv2D(32,kernel_size=(3,3),activation='relu'))\n",
    "cnn.add(MaxPooling2D(pool_size=(2,2)))\n",
    "cnn.add(Dropout(0.2))\n",
    "#Adding 3rd Convolution and Pooling Layer\n",
    "cnn.add(Conv2D(32,kernel_size=(3,3),activation='relu'))\n",
    "cnn.add(MaxPooling2D(pool_size=(2,2)))\n",
    "cnn.add(Dropout(0.2))\n",
    "#Adding 4th Convolution and Pooling Layer\n",
    "cnn.add(Conv2D(32,kernel_size=(3,3),activation='relu'))\n",
    "cnn.add(MaxPooling2D(pool_size=(2,2)))\n",
    "cnn.add(Dropout(0.2))\n",
    "#Adding 5th Convolution and Pooling Layer\n",
    "cnn.add(Conv2D(32,kernel_size=(3,3),activation='relu'))\n",
    "cnn.add(MaxPooling2D(pool_size=(2,2)))\n",
    "cnn.add(Dropout(0.2))\n",
    "\n",
    "#Flatten\n",
    "cnn.add(Flatten())\n",
    "\n",
    "#Adding Input and Output Layer\n",
    "cnn.add(Dense(units=256,activation='relu'))\n",
    "cnn.add(Dense(units=256,activation='relu'))\n",
    "cnn.add(Dense(units=256,activation='relu'))\n",
    "cnn.add(Dense(units=196,activation='sigmoid'))\n",
    "\n",
    "cnn.compile(optimizer = 'adam', loss = 'categorical_crossentropy', metrics = ['accuracy'])"
   ]
  },
  {
   "cell_type": "code",
   "execution_count": null,
   "metadata": {},
   "outputs": [],
   "source": []
  },
  {
   "cell_type": "code",
   "execution_count": 10,
   "metadata": {
    "scrolled": true
   },
   "outputs": [
    {
     "name": "stdout",
     "output_type": "stream",
     "text": [
      "WARNING:tensorflow:From <ipython-input-10-58a55c322e3b>:1: Model.fit_generator (from tensorflow.python.keras.engine.training) is deprecated and will be removed in a future version.\n",
      "Instructions for updating:\n",
      "Please use Model.fit, which supports generators.\n",
      "Epoch 1/30\n",
      "100/100 [==============================] - 511s 5s/step - loss: 5.2794 - accuracy: 0.0059 - val_loss: 5.2775 - val_accuracy: 0.0069\n",
      "Epoch 2/30\n",
      "100/100 [==============================] - 429s 4s/step - loss: 5.2783 - accuracy: 0.0050 - val_loss: 5.2770 - val_accuracy: 0.0131\n",
      "Epoch 3/30\n",
      "100/100 [==============================] - 396s 4s/step - loss: 5.2776 - accuracy: 0.0100 - val_loss: 5.2773 - val_accuracy: 0.0044\n",
      "Epoch 4/30\n",
      "100/100 [==============================] - 344s 3s/step - loss: 5.2782 - accuracy: 0.0081 - val_loss: 5.2764 - val_accuracy: 0.0125\n",
      "Epoch 5/30\n",
      "100/100 [==============================] - 318s 3s/step - loss: 5.2777 - accuracy: 0.0097 - val_loss: 5.2749 - val_accuracy: 0.0063\n",
      "Epoch 6/30\n",
      "100/100 [==============================] - 295s 3s/step - loss: 5.2778 - accuracy: 0.0088 - val_loss: 5.2760 - val_accuracy: 0.0081\n",
      "Epoch 7/30\n",
      "100/100 [==============================] - 275s 3s/step - loss: 5.2762 - accuracy: 0.0107 - val_loss: 5.2776 - val_accuracy: 0.0056\n",
      "Epoch 8/30\n",
      "100/100 [==============================] - 270s 3s/step - loss: 5.2757 - accuracy: 0.0088 - val_loss: 5.2748 - val_accuracy: 0.0106\n",
      "Epoch 9/30\n",
      "100/100 [==============================] - 258s 3s/step - loss: 5.2763 - accuracy: 0.0063 - val_loss: 5.2741 - val_accuracy: 0.0088\n",
      "Epoch 10/30\n",
      "100/100 [==============================] - 253s 3s/step - loss: 5.2756 - accuracy: 0.0079 - val_loss: 5.2734 - val_accuracy: 0.0088\n",
      "Epoch 11/30\n",
      "100/100 [==============================] - 249s 2s/step - loss: 5.2753 - accuracy: 0.0072 - val_loss: 5.2749 - val_accuracy: 0.0081\n",
      "Epoch 12/30\n",
      "100/100 [==============================] - 250s 2s/step - loss: 5.2759 - accuracy: 0.0069 - val_loss: 5.2732 - val_accuracy: 0.0075\n",
      "Epoch 13/30\n",
      "100/100 [==============================] - 252s 3s/step - loss: 5.2751 - accuracy: 0.0094 - val_loss: 5.2735 - val_accuracy: 0.0100\n",
      "Epoch 14/30\n",
      "100/100 [==============================] - 244s 2s/step - loss: 5.2744 - accuracy: 0.0072 - val_loss: 5.2748 - val_accuracy: 0.0069\n",
      "Epoch 15/30\n",
      "100/100 [==============================] - 242s 2s/step - loss: 5.2745 - accuracy: 0.0091 - val_loss: 5.2761 - val_accuracy: 0.0088\n",
      "Epoch 16/30\n",
      "100/100 [==============================] - 241s 2s/step - loss: 5.2733 - accuracy: 0.0081 - val_loss: 5.2747 - val_accuracy: 0.0088\n",
      "Epoch 17/30\n",
      "100/100 [==============================] - 242s 2s/step - loss: 5.2747 - accuracy: 0.0091 - val_loss: 5.2752 - val_accuracy: 0.0069\n",
      "Epoch 18/30\n",
      "100/100 [==============================] - 242s 2s/step - loss: 5.2733 - accuracy: 0.0081 - val_loss: 5.2751 - val_accuracy: 0.0081\n",
      "Epoch 19/30\n",
      "100/100 [==============================] - 247s 2s/step - loss: 5.2754 - accuracy: 0.0088 - val_loss: 5.2734 - val_accuracy: 0.0075\n",
      "Epoch 20/30\n",
      "100/100 [==============================] - 257s 3s/step - loss: 5.2747 - accuracy: 0.0088 - val_loss: 5.2737 - val_accuracy: 0.0063\n",
      "Epoch 21/30\n",
      "100/100 [==============================] - 321s 3s/step - loss: 5.2738 - accuracy: 0.0088 - val_loss: 5.2741 - val_accuracy: 0.0094\n",
      "Epoch 22/30\n",
      "100/100 [==============================] - 293s 3s/step - loss: 5.2737 - accuracy: 0.0088 - val_loss: 5.2753 - val_accuracy: 0.0081\n",
      "Epoch 23/30\n",
      "100/100 [==============================] - 279s 3s/step - loss: 5.2757 - accuracy: 0.0097 - val_loss: 5.2722 - val_accuracy: 0.0113\n",
      "Epoch 24/30\n",
      "100/100 [==============================] - 264s 3s/step - loss: 5.2719 - accuracy: 0.0094 - val_loss: 5.2702 - val_accuracy: 0.0075\n",
      "Epoch 25/30\n",
      "100/100 [==============================] - 257s 3s/step - loss: 5.2727 - accuracy: 0.0094 - val_loss: 5.2745 - val_accuracy: 0.0069\n",
      "Epoch 26/30\n",
      "100/100 [==============================] - 265s 3s/step - loss: 5.2728 - accuracy: 0.0137 - val_loss: 5.2724 - val_accuracy: 0.0094\n",
      "Epoch 27/30\n",
      "100/100 [==============================] - 254s 3s/step - loss: 5.2740 - accuracy: 0.0097 - val_loss: 5.2738 - val_accuracy: 0.0069\n",
      "Epoch 28/30\n",
      "100/100 [==============================] - 253s 3s/step - loss: 5.2738 - accuracy: 0.0081 - val_loss: 5.2768 - val_accuracy: 0.0100\n",
      "Epoch 29/30\n",
      "100/100 [==============================] - 254s 3s/step - loss: 5.2749 - accuracy: 0.0066 - val_loss: 5.2725 - val_accuracy: 0.0075\n",
      "Epoch 30/30\n",
      "100/100 [==============================] - 248s 2s/step - loss: 5.2743 - accuracy: 0.0081 - val_loss: 5.2720 - val_accuracy: 0.0100\n"
     ]
    }
   ],
   "source": [
    "history = cnn.fit_generator(train_data,\n",
    "                            steps_per_epoch=100,\n",
    "                            epochs=30,\n",
    "                            validation_data=test_data,\n",
    "                            validation_steps=50)"
   ]
  },
  {
   "cell_type": "code",
   "execution_count": 11,
   "metadata": {
    "scrolled": false
   },
   "outputs": [
    {
     "data": {
      "image/png": "[encoded data removed]",
      "text/plain": [
       "<Figure size 432x288 with 1 Axes>"
      ]
     },
     "metadata": {
      "needs_background": "light"
     },
     "output_type": "display_data"
    },
    {
     "data": {
      "image/png": "[encoded data removed]",
      "text/plain": [
       "<Figure size 432x288 with 1 Axes>"
      ]
     },
     "metadata": {
      "needs_background": "light"
     },
     "output_type": "display_data"
    }
   ],
   "source": [
    "import matplotlib.pyplot as plt\n",
    "plt.plot(history.history['accuracy'])\n",
    "plt.plot(history.history['val_accuracy'])\n",
    "plt.title('model accuracy')\n",
    "plt.ylabel('accuracy')\n",
    "plt.xlabel('epoch')\n",
    "plt.legend(['train', 'test'], loc='upper left')\n",
    "plt.show()\n",
    "# summarize history for loss   \n",
    "plt.plot(history.history['loss'])\n",
    "plt.plot(history.history['val_loss'])\n",
    "plt.title('model loss')\n",
    "plt.ylabel('loss')\n",
    "plt.xlabel('epoch')\n",
    "plt.legend(['train', 'test'], loc='upper left')\n",
    "plt.show()"
   ]
  },
  {
   "cell_type": "code",
   "execution_count": null,
   "metadata": {},
   "outputs": [],
   "source": []
  },
  {
   "cell_type": "code",
   "execution_count": 15,
   "metadata": {
    "scrolled": false
   },
   "outputs": [
    {
     "name": "stdout",
     "output_type": "stream",
     "text": [
      "Model: \"sequential_1\"\n",
      "_________________________________________________________________\n",
      "Layer (type)                 Output Shape              Param #   \n",
      "=================================================================\n",
      "conv2d_1 (Conv2D)            (None, 126, 126, 32)      896       \n",
      "_________________________________________________________________\n",
      "max_pooling2d (MaxPooling2D) (None, 63, 63, 32)        0         \n",
      "_________________________________________________________________\n",
      "dropout (Dropout)            (None, 63, 63, 32)        0         \n",
      "_________________________________________________________________\n",
      "conv2d_2 (Conv2D)            (None, 61, 61, 32)        9248      \n",
      "_________________________________________________________________\n",
      "max_pooling2d_1 (MaxPooling2 (None, 30, 30, 32)        0         \n",
      "_________________________________________________________________\n",
      "dropout_1 (Dropout)          (None, 30, 30, 32)        0         \n",
      "_________________________________________________________________\n",
      "conv2d_3 (Conv2D)            (None, 28, 28, 32)        9248      \n",
      "_________________________________________________________________\n",
      "max_pooling2d_2 (MaxPooling2 (None, 14, 14, 32)        0         \n",
      "_________________________________________________________________\n",
      "dropout_2 (Dropout)          (None, 14, 14, 32)        0         \n",
      "_________________________________________________________________\n",
      "conv2d_4 (Conv2D)            (None, 12, 12, 32)        9248      \n",
      "_________________________________________________________________\n",
      "max_pooling2d_3 (MaxPooling2 (None, 6, 6, 32)          0         \n",
      "_________________________________________________________________\n",
      "dropout_3 (Dropout)          (None, 6, 6, 32)          0         \n",
      "_________________________________________________________________\n",
      "conv2d_5 (Conv2D)            (None, 4, 4, 32)          9248      \n",
      "_________________________________________________________________\n",
      "max_pooling2d_4 (MaxPooling2 (None, 2, 2, 32)          0         \n",
      "_________________________________________________________________\n",
      "dropout_4 (Dropout)          (None, 2, 2, 32)          0         \n",
      "_________________________________________________________________\n",
      "flatten (Flatten)            (None, 128)               0         \n",
      "_________________________________________________________________\n",
      "dense (Dense)                (None, 256)               33024     \n",
      "_________________________________________________________________\n",
      "dense_1 (Dense)              (None, 256)               65792     \n",
      "_________________________________________________________________\n",
      "dense_2 (Dense)              (None, 256)               65792     \n",
      "_________________________________________________________________\n",
      "dense_3 (Dense)              (None, 196)               50372     \n",
      "=================================================================\n",
      "Total params: 252,868\n",
      "Trainable params: 252,868\n",
      "Non-trainable params: 0\n",
      "_________________________________________________________________\n"
     ]
    }
   ],
   "source": [
    "cnn.summary()"
   ]
  },
  {
   "cell_type": "code",
   "execution_count": null,
   "metadata": {},
   "outputs": [],
   "source": []
  },
  {
   "cell_type": "code",
   "execution_count": null,
   "metadata": {},
   "outputs": [],
   "source": []
  },
  {
   "cell_type": "code",
   "execution_count": null,
   "metadata": {
    "scrolled": true
   },
   "outputs": [],
   "source": []
  },
  {
   "cell_type": "code",
   "execution_count": null,
   "metadata": {
    "scrolled": true
   },
   "outputs": [],
   "source": []
  },
  {
   "cell_type": "code",
   "execution_count": 3,
   "metadata": {
    "scrolled": true
   },
   "outputs": [],
   "source": []
  },
  {
   "cell_type": "code",
   "execution_count": 2,
   "metadata": {
    "scrolled": true
   },
   "outputs": [],
   "source": []
  },
  {
   "cell_type": "code",
   "execution_count": 1,
   "metadata": {
    "scrolled": false
   },
   "outputs": [],
   "source": []
  },
  {
   "cell_type": "code",
   "execution_count": null,
   "metadata": {},
   "outputs": [],
   "source": []
  },
  {
   "cell_type": "code",
   "execution_count": null,
   "metadata": {},
   "outputs": [],
   "source": []
  },
  {
   "cell_type": "code",
   "execution_count": null,
   "metadata": {},
   "outputs": [],
   "source": []
  }
 ],
 "metadata": {
  "kernelspec": {
   "display_name": "Python 3",
   "language": "python",
   "name": "python3"
  },
  "language_info": {
   "codemirror_mode": {
    "name": "ipython",
    "version": 3
   },
   "file_extension": ".py",
   "mimetype": "text/x-python",
   "name": "python",
   "nbconvert_exporter": "python",
   "pygments_lexer": "ipython3",
   "version": "3.8.3"
  }
 },
 "nbformat": 4,
 "nbformat_minor": 4
}
